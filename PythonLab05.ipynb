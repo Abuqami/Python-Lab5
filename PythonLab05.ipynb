{
 "cells": [
  {
   "cell_type": "code",
   "execution_count": null,
   "id": "a2463ff0",
   "metadata": {},
   "outputs": [],
   "source": [
    "\"\"\"\n",
    "Given the following list : [5, 4, 17, 19, 30, 2, 7, 10, 45]\n",
    "\n",
    "    Q1: Write a Python program to sum all the items in the list.\n",
    "    Q2: Write a Python program to get the largest number from the list.\n",
    "    Q3: Use list comprehension, create a new list from the above list containing only even numbers.\n",
    "    Q4: Use list slicing to get a new list from the previous list starting from the start to the 5th element in the list.\n",
    "\n",
    "\n",
    "\n",
    "\n",
    "\n",
    "\"\"\""
   ]
  },
  {
   "cell_type": "code",
   "execution_count": 9,
   "id": "06ce68b8",
   "metadata": {},
   "outputs": [
    {
     "name": "stdout",
     "output_type": "stream",
     "text": [
      "Sum of list items: 139\n",
      "largest number in the list: 45\n",
      "even numbers : [4, 30, 2, 10]\n",
      "list elements from the start til the fifth element : [5, 4, 17, 19, 30]\n"
     ]
    }
   ],
   "source": [
    "lab_list = [5, 4, 17, 19, 30, 2, 7, 10, 45]\n",
    "#Q1\n",
    "sum_items = 0\n",
    "for i in lab_list:\n",
    "    sum_items+=i\n",
    "\n",
    "print(f'Sum of list items: {sum_items}')\n",
    "\n",
    "# it could be replaced with sum() method which will produce the same output\n",
    "\n",
    "#Q2\n",
    "max = 0\n",
    "for i in lab_list:\n",
    "    if(max < i ):\n",
    "        max = i\n",
    "\n",
    "print(f'largest number in the list: {max}')\n",
    "# This also could be replaced with max() method which will produce the same output\n",
    "\n",
    "\n",
    "#Q3\n",
    "even_list = [num for num in lab_list if num % 2 == 0]\n",
    "print(f'even numbers : {even_list}')\n",
    "\n",
    "#Q4\n",
    "new_list = lab_list[0:5]\n",
    "print(f'list elements from the start til the fifth element : {new_list}')"
   ]
  }
 ],
 "metadata": {
  "kernelspec": {
   "display_name": "Python 3 (ipykernel)",
   "language": "python",
   "name": "python3"
  },
  "language_info": {
   "codemirror_mode": {
    "name": "ipython",
    "version": 3
   },
   "file_extension": ".py",
   "mimetype": "text/x-python",
   "name": "python",
   "nbconvert_exporter": "python",
   "pygments_lexer": "ipython3",
   "version": "3.11.3"
  }
 },
 "nbformat": 4,
 "nbformat_minor": 5
}
